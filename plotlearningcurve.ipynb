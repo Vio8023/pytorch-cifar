{
 "cells": [
  {
   "cell_type": "code",
   "execution_count": 1,
   "metadata": {},
   "outputs": [],
   "source": [
    "import pandas as pd\n",
    "import matplotlib.pyplot as plt\n",
    "import seaborn as sns\n",
    "sns.set(rc={'figure.figsize':(11.7,8.27)})\n",
    "def plot2(df, x, y, style, pal_num, hue = None,label = \"\", savename = \"\"):\n",
    "    pal = sns.color_palette(\"cubehelix\", pal_num)\n",
    "    sns.set_style(\"darkgrid\")\n",
    "    \n",
    "    # ax.plot(a, c, 'k--', label='Model length')\n",
    "    fig = sns.lineplot(x, y , data=df, palette=pal, hue=hue, style = style)\n",
    "    # ax.axvline(1.5, color='r', linestyle='--', label = \"Best model\")\n",
    "    # Put a nicer background color on the legend.\n",
    "    plt.title(label)\n",
    "    fp = resultdir + 'plots/'+ savename\n",
    "#     print(\"Figure path:\", fp)\n",
    "    plt.savefig(fp)\n",
    "    plt.show()\n",
    "    plt.close()\n",
    "\n",
    "import os\n",
    "import pickle\n",
    "def getresult(fn):\n",
    "    f = open(os.path.join(resultdir, fn), \"rb\")\n",
    "    return pickle.load(f, encoding='latin1')"
   ]
  },
  {
   "cell_type": "code",
   "execution_count": null,
   "metadata": {},
   "outputs": [],
   "source": [
    "import pandas as pd\n",
    "import numpy as np\n",
    "\n",
    "nepochs = 200\n",
    "filename = \"\"\n",
    "ra = getresult(filename)\n",
    "\n",
    "dfe = pd.DataFrame()\n",
    "dfs = pd.DataFrame()\n",
    "\n",
    "df1 = pd.DataFrame({\"Error\":ra['tr_err'],\"Type\":'Training' ,\"Epochs\":list(range(nepochs))})\n",
    "df2 = pd.DataFrame({\"Error\":ra['v_err'], \"Type\":'Validation' ,\"Epochs\":list(range(nepochs))})\n",
    "df3 = pd.DataFrame({\"Loss\":ra['tr_loss'],\"Type\":'Training' ,\"Epochs\":list(range(nepochs))})\n",
    "df4 = pd.DataFrame({\"Loss\":ra['v_loss'], \"Type\":'Validation' ,\"Epochs\":list(range(nepochs))})\n",
    "\n",
    "dfe = pd.concat([dfe, df1, df2])\n",
    "dfs = pd.concat([dfs, df3, df4])\n",
    "    \n",
    "plot2(dfe, \"Epochs\", \"Error\",  style=\"Type\", pal_num=1, label=\"1a. Error\", savename=\"1a_err\")\n",
    "plot2(dfs, \"Epochs\", \"Loss\", style=\"Type\", pal_num=1, label=\"1a. Loss\", savename=\"1a_loss\")"
   ]
  }
 ],
 "metadata": {
  "kernelspec": {
   "display_name": "Python 3",
   "language": "python",
   "name": "python3"
  },
  "language_info": {
   "codemirror_mode": {
    "name": "ipython",
    "version": 3
   },
   "file_extension": ".py",
   "mimetype": "text/x-python",
   "name": "python",
   "nbconvert_exporter": "python",
   "pygments_lexer": "ipython3",
   "version": "3.7.0"
  }
 },
 "nbformat": 4,
 "nbformat_minor": 2
}
